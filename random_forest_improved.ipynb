{
 "cells": [
  {
   "cell_type": "code",
   "execution_count": 2,
   "id": "e0befa41",
   "metadata": {},
   "outputs": [
    {
     "name": "stdout",
     "output_type": "stream",
     "text": [
      "              precision    recall  f1-score   support\n",
      "\n",
      "           e       1.00      1.00      1.00       843\n",
      "           p       1.00      1.00      1.00       782\n",
      "\n",
      "    accuracy                           1.00      1625\n",
      "   macro avg       1.00      1.00      1.00      1625\n",
      "weighted avg       1.00      1.00      1.00      1625\n",
      "\n",
      "Best hyperparameters: {'max_depth': 26, 'min_samples_leaf': 4, 'min_samples_split': 9, 'n_estimators': 201}\n"
     ]
    },
    {
     "data": {
      "text/plain": [
       "['X_columns.pkl']"
      ]
     },
     "execution_count": 2,
     "metadata": {},
     "output_type": "execute_result"
    }
   ],
   "source": [
    "import pandas as pd\n",
    "from sklearn.model_selection import train_test_split, RandomizedSearchCV\n",
    "from sklearn.ensemble import RandomForestClassifier\n",
    "from sklearn.metrics import classification_report\n",
    "from scipy.stats import randint\n",
    "\n",
    "import pickle\n",
    "import joblib\n",
    "\n",
    "# Load data\n",
    "df = pd.read_csv(\"mushrooms.csv\")\n",
    "\n",
    "# Separate target first\n",
    "y = df[\"class\"]\n",
    "X = df.drop(\"class\", axis=1)\n",
    "\n",
    "# One-hot encode features only\n",
    "X = pd.get_dummies(X, drop_first=False)\n",
    "\n",
    "# Train-test split\n",
    "X_train, X_test, y_train, y_test = train_test_split(\n",
    "    X, y, test_size=0.2, random_state=42\n",
    ")\n",
    "\n",
    "\n",
    "# Random Forest model\n",
    "rf = RandomForestClassifier(random_state=42)\n",
    "\n",
    "# Hyperparameter space\n",
    "param_dist = {\n",
    "    \"n_estimators\": randint(50, 300),  # number of trees\n",
    "    \"max_depth\": randint(3, 30),  # max depth of each tree\n",
    "    \"min_samples_split\": randint(2, 20),  # min samples to split a node\n",
    "    \"min_samples_leaf\": randint(1, 20),  # min samples in each leaf\n",
    "}\n",
    "\n",
    "# Randomized Search CV\n",
    "random_search = RandomizedSearchCV(\n",
    "    rf, param_distributions=param_dist, n_iter=50, cv=5, random_state=42, n_jobs=-1\n",
    ")\n",
    "\n",
    "# Fit model\n",
    "random_search.fit(X_train, y_train)\n",
    "\n",
    "# Best model\n",
    "best_rf = random_search.best_estimator_\n",
    "\n",
    "# Evaluate\n",
    "y_pred = best_rf.predict(X_test)\n",
    "print(classification_report(y_test, y_pred))\n",
    "\n",
    "\n",
    "# Keep track of final model + features\n",
    "print(\"Best hyperparameters:\", random_search.best_params_)\n",
    "\n",
    "with open(\"rf_model.pkl\", \"wb\") as f:\n",
    "    pickle.dump(best_rf, f)\n",
    "\n",
    "joblib.dump(X.columns, \"X_columns.pkl\")\n"
   ]
  },
  {
   "cell_type": "code",
   "execution_count": 3,
   "id": "dd7b8fcf",
   "metadata": {},
   "outputs": [
    {
     "name": "stdout",
     "output_type": "stream",
     "text": [
      "Final Test Accuracy: 1.0\n"
     ]
    }
   ],
   "source": [
    "from sklearn.metrics import accuracy_score\n",
    "\n",
    "final_acc = accuracy_score(y_test, y_pred)\n",
    "print(\"Final Test Accuracy:\", final_acc)\n"
   ]
  }
 ],
 "metadata": {
  "kernelspec": {
   "display_name": "venv (3.12.0)",
   "language": "python",
   "name": "python3"
  },
  "language_info": {
   "codemirror_mode": {
    "name": "ipython",
    "version": 3
   },
   "file_extension": ".py",
   "mimetype": "text/x-python",
   "name": "python",
   "nbconvert_exporter": "python",
   "pygments_lexer": "ipython3",
   "version": "3.12.0"
  }
 },
 "nbformat": 4,
 "nbformat_minor": 5
}
