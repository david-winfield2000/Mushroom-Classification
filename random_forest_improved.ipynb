{
 "cells": [
  {
   "cell_type": "code",
   "execution_count": 15,
   "id": "e0befa41",
   "metadata": {},
   "outputs": [
    {
     "name": "stdout",
     "output_type": "stream",
     "text": [
      "Best parameters: {'max_depth': 10, 'min_samples_split': 2, 'n_estimators': 100}\n",
      "Test Accuracy: 1.0\n"
     ]
    }
   ],
   "source": [
    "import pandas as pd\n",
    "from sklearn.model_selection import train_test_split, GridSearchCV\n",
    "from sklearn.ensemble import RandomForestClassifier\n",
    "from sklearn.metrics import accuracy_score\n",
    "\n",
    "# Load data\n",
    "df = pd.read_csv(\"mushrooms.csv\")\n",
    "\n",
    "# Separate target and features\n",
    "y = df[\"class\"]\n",
    "X = df.drop(\"class\", axis=1)\n",
    "\n",
    "# Encode categorical variables (since mushroom dataset is all strings)\n",
    "X = pd.get_dummies(X)\n",
    "\n",
    "# Split into train/test\n",
    "X_train, X_test, y_train, y_test = train_test_split(\n",
    "    X, y, test_size=0.2, random_state=42\n",
    ")\n",
    "\n",
    "# Random Forest with grid search\n",
    "param_grid = {\n",
    "    \"n_estimators\": [100, 200, 300, 400, 500],\n",
    "    \"max_depth\": [5, 10, 20, 30],\n",
    "    \"min_samples_split\": [2, 5, 10, 15, 20],\n",
    "}\n",
    "\n",
    "rf = RandomForestClassifier(random_state=42)\n",
    "\n",
    "# Use Grid Search to find the best hyperparameters\n",
    "grid = GridSearchCV(rf, param_grid, cv=5, scoring=\"accuracy\", n_jobs=-1)\n",
    "grid.fit(X_train, y_train)\n",
    "print(\"Best parameters:\", grid.best_params_)\n",
    "\n",
    "# Evaluate accuracy on the test set\n",
    "y_pred = grid.best_estimator_.predict(X_test)\n",
    "print(\"Test Accuracy:\", accuracy_score(y_test, y_pred))\n"
   ]
  },
  {
   "cell_type": "code",
   "execution_count": null,
   "id": "dd7b8fcf",
   "metadata": {},
   "outputs": [
    {
     "data": {
      "text/plain": [
       "['X_columns.pkl']"
      ]
     },
     "execution_count": 17,
     "metadata": {},
     "output_type": "execute_result"
    }
   ],
   "source": [
    "import pickle\n",
    "import joblib\n",
    "\n",
    "# Save best model\n",
    "with open(\"rf_model.pkl\", \"wb\") as f:\n",
    "    pickle.dump(grid.best_estimator_, f)\n",
    "\n",
    "# Save feature names\n",
    "joblib.dump(X.columns, \"X_columns.pkl\")"
   ]
  }
 ],
 "metadata": {
  "kernelspec": {
   "display_name": "venv (3.12.0)",
   "language": "python",
   "name": "python3"
  },
  "language_info": {
   "codemirror_mode": {
    "name": "ipython",
    "version": 3
   },
   "file_extension": ".py",
   "mimetype": "text/x-python",
   "name": "python",
   "nbconvert_exporter": "python",
   "pygments_lexer": "ipython3",
   "version": "3.12.0"
  }
 },
 "nbformat": 4,
 "nbformat_minor": 5
}
